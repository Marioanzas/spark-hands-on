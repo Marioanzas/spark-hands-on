{
 "cells": [
  {
   "cell_type": "markdown",
   "metadata": {},
   "source": [
    "<p align=\"center\">\n",
    "   <img src=\"spark-ml.png\">\n",
    "</p>"
   ]
  },
  {
   "cell_type": "markdown",
   "metadata": {},
   "source": [
    "## SparkML\n",
    "In this notebook, we'll use Spark for:\n",
    "\n",
    "* Sentiment Analysis\n",
    "* Natural Language Processing (NLP)\n",
    "* Decision Trees\n",
    "\n",
    "We will be using a dataset of roughly 50,000 IMDB reviews, which includes the English language text of that review and the rating associated with it (1-10). Based on the text of the review, we want to predict if the rating is \"positive\" or \"negative\"."
   ]
  },
  {
   "cell_type": "markdown",
   "metadata": {},
   "source": [
    "### 1. Load libraries and foundry utilities"
   ]
  },
  {
   "cell_type": "code",
   "execution_count": 2,
   "metadata": {},
   "outputs": [],
   "source": [
    "import pyspark\n",
    "from pyspark.sql import SparkSession\n",
    "\n",
    "\n",
    "# Pandas\n",
    "import pandas as pd\n",
    "\n",
    "# Plot\n",
    "%matplotlib inline\n",
    "import matplotlib.pyplot as plt\n",
    "\n",
    "# Foundry\n",
    "import foundrywrapper\n",
    "from foundrywrapper import FoundryWrapper"
   ]
  },
  {
   "cell_type": "code",
   "execution_count": 3,
   "metadata": {},
   "outputs": [
    {
     "data": {
      "text/html": [
       "\n",
       "<p>\n",
       "<b>Foundry-Wrapper</b> v0.3.3</br>\n",
       "Welcome JEREMY PIRARD  (PIRARD_J)<br>\n",
       "Using <a href='https://core.skywise.com/'>core.skywise.com</a>\n",
       "</p>"
      ],
      "text/plain": [
       "Foundry-Wrapper v0.3.3\n",
       "Welcome JEREMY PIRARD (PIRARD_J)"
      ]
     },
     "execution_count": 3,
     "metadata": {},
     "output_type": "execute_result"
    }
   ],
   "source": [
    "#Required for foundry, not useful for spark purposes\n",
    "fw = FoundryWrapper()\n",
    "fw"
   ]
  },
  {
   "cell_type": "code",
   "execution_count": 4,
   "metadata": {},
   "outputs": [],
   "source": [
    "spark = (SparkSession.builder \n",
    "        .master('spark://spark-master:7077') #master node URL\n",
    "        .appName('~ Spark hands-on: Spark-ML ~') #my App name\n",
    "        .config('spark.driver.memory', '1g') # memory allocated to the master\n",
    "        .config('spark.driver.cores', '2') # CPU's allocated to the master\n",
    "        .config('spark.executor.instances', '2') # how many executors\n",
    "        .config('spark.executor.memory', '4g') # memory per executor (where the data is stored)\n",
    "        .config('spark.executor.cores', '2') #CPU's per executor\n",
    "        .config(conf=fw.spark.get_spark_app_config())\n",
    "        .getOrCreate())\n"
   ]
  },
  {
   "cell_type": "code",
   "execution_count": 5,
   "metadata": {},
   "outputs": [
    {
     "data": {
      "text/html": [
       "65.8 MB, 1 file(s)"
      ],
      "text/plain": [
       "{'sizeInBytes': 65834871, 'numFiles': 1, 'hiddenFilesSizeInBytes': 0, 'numHiddenFiles': 0, 'numTransactions': 1}"
      ]
     },
     "execution_count": 5,
     "metadata": {},
     "output_type": "execute_result"
    }
   ],
   "source": [
    "#Foundry stuff\n",
    "file_rid = fw.compass.get_rid('/Airbus/EY - Zero AOG/ATARI/Spark Hands-on/IMDB_reviews')\n",
    "fw.catalog.get_dataset_view_stats(file_rid)"
   ]
  },
  {
   "cell_type": "code",
   "execution_count": 6,
   "metadata": {},
   "outputs": [],
   "source": [
    "reviewsDF = spark.read.format(\"csv\").option(\"header\", \"true\").option(\"inferSchema\", \"true\").load(fw.spark.foundryfs_uri(file_rid))"
   ]
  },
  {
   "cell_type": "markdown",
   "metadata": {},
   "source": [
    "### 2. Basic exploration\n",
    "\n",
    "The dataset is a toy one and not that large, let's register it into a SQL view."
   ]
  },
  {
   "cell_type": "code",
   "execution_count": 7,
   "metadata": {},
   "outputs": [],
   "source": [
    "reviewsDF.createOrReplaceTempView(\"reviews\")"
   ]
  },
  {
   "cell_type": "code",
   "execution_count": 8,
   "metadata": {},
   "outputs": [
    {
     "name": "stdout",
     "output_type": "stream",
     "text": [
      "root\n",
      " |-- review: string (nullable = true)\n",
      " |-- rating: double (nullable = true)\n",
      "\n"
     ]
    }
   ],
   "source": [
    "reviewsDF.printSchema()"
   ]
  },
  {
   "cell_type": "code",
   "execution_count": 9,
   "metadata": {},
   "outputs": [
    {
     "name": "stdout",
     "output_type": "stream",
     "text": [
      "+--------------------+------+\n",
      "|              review|rating|\n",
      "+--------------------+------+\n",
      "|It's hard to imag...|   9.0|\n",
      "|Two of Hollywood'...|  10.0|\n",
      "|I saw this film w...|   3.0|\n",
      "|you have loved Th...|  10.0|\n",
      "|I hated the way M...|   1.0|\n",
      "|The first and onl...|  10.0|\n",
      "|This movie is tol...|   4.0|\n",
      "|Unfortunately, th...|   1.0|\n",
      "|I hope we never b...|  10.0|\n",
      "|I managed to tape...|  10.0|\n",
      "|for a lot of time...|   4.0|\n",
      "|This is a delirio...|   7.0|\n",
      "|This is an 'antho...|   4.0|\n",
      "|This is just what...|   1.0|\n",
      "|** out of **** st...|   4.0|\n",
      "|A dying Kung Fu m...|   7.0|\n",
      "|An uptight voyeur...|   4.0|\n",
      "|Being a freshman ...|   9.0|\n",
      "|Lensman is a rath...|   8.0|\n",
      "|Quite what the pr...|   2.0|\n",
      "+--------------------+------+\n",
      "only showing top 20 rows\n",
      "\n"
     ]
    }
   ],
   "source": [
    "reviewsDF.show()"
   ]
  },
  {
   "cell_type": "markdown",
   "metadata": {},
   "source": [
    "We only have two columns, the target that we will predict (*rating*) and the review column which is text data. To create a predictive model we will need to create some variables out of this text."
   ]
  },
  {
   "cell_type": "markdown",
   "metadata": {},
   "source": [
    "What does a review look like ?"
   ]
  },
  {
   "cell_type": "code",
   "execution_count": 10,
   "metadata": {},
   "outputs": [
    {
     "data": {
      "text/plain": [
       "[Row(review=\"It's hard to imagine a director capable of such godawful crap as 'Notting Hill' pulling off something as sensitive and as attractive as this, but well, here's the evidence and it's quite compelling. Several have alluded to TV drama, and yes, this does have a seventies Play for Today feel at times, but is always a cut above, mainly I think owing to some quite superlative acting from Anne Reid and to a fine script which shadow-boxes with cliché without ever getting one on the nose, except maybe right at the end. (I didn't like either the tracking shot of indifferent goodbyes through the hallway, nor the oh-what-a-beautiful-morning final scene: she deserved a more studied finale than that I think, after all that hard work. The slippers business was a bit OTT too, on reflection).<br /><br />What I mean about avoiding cliché: well, I for one had a sinking expectation that the 'mature' man May's daughter tries to set her up with would be cast in 2 dimensions as a repulsive old bore, so as to point the contrast more painfully with the attractive, virile young geezer he is unwittingly competing with. Instead, we get an unexpectedly subtle and sympathetic cameo of a lonely, clumsy, not entirely unlikeable and very human fellow, who nevertheless doesn't have much of a clue about entertaining a woman. It was around that point I started to sit up and pay more attention. Here was a script that let the actors breathe and do something interesting with fairly minor parts. Almost Mike Leigh in that respect (minus the contrived catharses that the latter inexplicably goes in for).<br /><br />And of course I was, as everyone probably was, dumbfounded by what Anne Reid does with her character and with her body. She's /not/ 'the repressed, dutiful housewife discovering herself for the first time', this is far too simplistic for the character we have. Again and again there are allusions to her having been a 'bad housewife', not to mention that thing she does with trays, trying to look nurturing and comely and only succeeding in looking awkward. The daughter accuses her of having 'sat in front of the TV all day' instead of, well, whatever her motherly duties might be presumed to have been: she has no answer. She never was a model wife and mother, at least not to herself - that's where a lot of the poignancy comes from, the sense of someone having wasted a life trying to fulfil a role she simply wasn't good at, ever.\", rating=9.0)]"
      ]
     },
     "execution_count": 10,
     "metadata": {},
     "output_type": "execute_result"
    }
   ],
   "source": [
    "reviewsDF.take(1) # Recall this is an action"
   ]
  },
  {
   "cell_type": "markdown",
   "metadata": {},
   "source": [
    "What does the distribution of scores look like?"
   ]
  },
  {
   "cell_type": "code",
   "execution_count": 11,
   "metadata": {},
   "outputs": [
    {
     "name": "stdout",
     "output_type": "stream",
     "text": [
      "+-------------+------+\n",
      "|count(rating)|rating|\n",
      "+-------------+------+\n",
      "|        10120|   1.0|\n",
      "|         4586|   2.0|\n",
      "|         4961|   3.0|\n",
      "|         5331|   4.0|\n",
      "|         4802|   7.0|\n",
      "|         5858|   8.0|\n",
      "|         4606|   9.0|\n",
      "|         9730|  10.0|\n",
      "+-------------+------+\n",
      "\n"
     ]
    }
   ],
   "source": [
    "spark.sql(\"SELECT count(rating) , rating  FROM reviews GROUP BY rating ORDER BY rating\").show()"
   ]
  },
  {
   "cell_type": "markdown",
   "metadata": {},
   "source": [
    "Is the same as :"
   ]
  },
  {
   "cell_type": "code",
   "execution_count": 12,
   "metadata": {},
   "outputs": [
    {
     "name": "stdout",
     "output_type": "stream",
     "text": [
      "+------+-------------+\n",
      "|rating|count(rating)|\n",
      "+------+-------------+\n",
      "|   1.0|        10120|\n",
      "|   2.0|         4586|\n",
      "|   3.0|         4961|\n",
      "|   4.0|         5331|\n",
      "|   7.0|         4802|\n",
      "|   8.0|         5858|\n",
      "|   9.0|         4606|\n",
      "|  10.0|         9730|\n",
      "+------+-------------+\n",
      "\n"
     ]
    }
   ],
   "source": [
    "from  pyspark.sql.functions import *\n",
    "reviewsDF.select(\"rating\", \"rating\").groupBy(\"rating\").agg(count(\"rating\")).orderBy(\"rating\").show()\n"
   ]
  },
  {
   "cell_type": "markdown",
   "metadata": {},
   "source": [
    "The authors of this dataset have removed the \"neutral\" ratings, which they defined as a rating of 5 or 6."
   ]
  },
  {
   "cell_type": "markdown",
   "metadata": {},
   "source": [
    "## 2. Machine learning workflow using Spark-ML\n",
    "\n",
    "Spark ML is a set of API built on top of DataFrame to provide ML worklfows. It is insipred from scikit-learn library in regular python. It has 3 main concepts:\n",
    "- **Transformers**: Algorithm that transforms a DataFrame into another DataFrame (used for features engineering);\n",
    "- **Estimator**: Algorithm fitted on a DataFrame and producing a Transformer;\n",
    "- **Pipeline**: Chains multiple Transformers and Estimators to create an ML workflow.\n",
    "\n",
    "\n",
    "See [the documentation](https://spark.apache.org/docs/latest/api/python/index.html) to have a comprehensive list of the features from Spark ML.\n",
    "\n",
    "On the schema below, we can see an example of a machine learning workflow illustrating these concepts:"
   ]
  },
  {
   "cell_type": "markdown",
   "metadata": {},
   "source": [
    "<img src=\"nlp_ml_workflow2.png\">"
   ]
  },
  {
   "cell_type": "markdown",
   "metadata": {},
   "source": [
    "### 2.1 Train Test Split\n",
    "\n",
    "We'll split our data into training and test samples. We will use 80% for training, and the remaining 20% for testing. We set a seed to reproduce the same results (i.e. if you re-run this notebook, you'll get the same results both times)."
   ]
  },
  {
   "cell_type": "code",
   "execution_count": 13,
   "metadata": {},
   "outputs": [
    {
     "data": {
      "text/plain": [
       "DataFrame[review: string, rating: double]"
      ]
     },
     "execution_count": 13,
     "metadata": {},
     "output_type": "execute_result"
    }
   ],
   "source": [
    "(trainDF, testDF) = reviewsDF.randomSplit([0.8, 0.2], seed=42)\n",
    "trainDF.cache() # caching it since it will be used for many feature generation\n",
    "testDF.cache() # Same reason"
   ]
  },
  {
   "cell_type": "markdown",
   "metadata": {},
   "source": [
    "Let's determine our baseline accuracy"
   ]
  },
  {
   "cell_type": "code",
   "execution_count": 14,
   "metadata": {},
   "outputs": [
    {
     "name": "stdout",
     "output_type": "stream",
     "text": [
      "Baseline accuracy: 49.96%\n"
     ]
    }
   ],
   "source": [
    "positiveRatings = trainDF.filter(\"rating >= 5\").count()\n",
    "totalRatings = trainDF.count()\n",
    "\n",
    "print(\"Baseline accuracy: {0:.2f}%\".format(positiveRatings/totalRatings*100))"
   ]
  },
  {
   "cell_type": "markdown",
   "metadata": {},
   "source": [
    "## 2.2 Generating Transformers and Estimators\n",
    "\n",
    "This is the feature engineering of our model!\n",
    "We will create:\n",
    "- A RegexTokenizer (split a sentence into list of word): transformer\n",
    "- A StopWordsRemover (remove common words (\"I\", \"the\" ...): transformer\n",
    "- A CountVectorize (counts the frequency of each word in a sentence): estimator -> it does not return a DataFrame but features!\n",
    "- A Binarizer (to predict only two class \"negative sentiment\" and \"positive\" sentiment): transformer\n",
    "- A DecisionTreeClassifier, that will use the features from the CountVectorizer to make a prediction: estimator\n",
    "\n",
    "Everything will be wrapped up into a Pipeline object (estimator). When fitted, it will produce a transformer. We will then apply it to the test DataFrame to create a new column corresponding to the prediction of the DecisionTreeClassifier !\n",
    "\n",
    "*Nota*: The quality of the feature engineering is not the purpose of the notebook. we could have used TF_IDF or a better algorithm for getting a better score. Cross-validation and hyperparameter tuning are not covered here but are available in Spark ML (*cf docs*)."
   ]
  },
  {
   "cell_type": "markdown",
   "metadata": {},
   "source": [
    "Tokenizer: Splitting each sentence into individual term.\n",
    "See https://spark.apache.org/docs/2.2.0/ml-features.html#tokenizer\n",
    "You can use this to remove non alphanumeric characters (commas, dots ...) and to lowercase every word in order to facilitate processing."
   ]
  },
  {
   "cell_type": "code",
   "execution_count": 15,
   "metadata": {},
   "outputs": [
    {
     "name": "stdout",
     "output_type": "stream",
     "text": [
      "+--------------------+------+--------------------+\n",
      "|              review|rating|              tokens|\n",
      "+--------------------+------+--------------------+\n",
      "|Irwin Allen was g...|   4.0|[irwin, allen, wa...|\n",
      "|I got seriously r...|   1.0|[i, got, seriousl...|\n",
      "|The basic idea be...|   2.0|[the, basic, idea...|\n",
      "|I always tell peo...|  10.0|[i, always, tell,...|\n",
      "|I'm an admirer of...|   8.0|[i, m, an, admire...|\n",
      "+--------------------+------+--------------------+\n",
      "\n"
     ]
    }
   ],
   "source": [
    "from pyspark.ml.feature import RegexTokenizer\n",
    "\n",
    "tokenizer = (RegexTokenizer()\n",
    "            .setInputCol(\"review\")\n",
    "            .setOutputCol(\"tokens\")\n",
    "            .setPattern(\"\\\\W+\"))\n",
    "\n",
    "tokenizedDF = tokenizer.transform(reviewsDF)\n",
    "tokenizedDF.limit(5).show() # Look at a few tokenized reviews"
   ]
  },
  {
   "cell_type": "markdown",
   "metadata": {},
   "source": [
    "There are a lot of words that do not contain much information about the sentiment of the review (e.g. `the`, `a`, etc.). Let's remove these uninformative words using `StopWordsRemover`."
   ]
  },
  {
   "cell_type": "code",
   "execution_count": 16,
   "metadata": {},
   "outputs": [
    {
     "name": "stdout",
     "output_type": "stream",
     "text": [
      "+--------------------+------+--------------------+--------------------+\n",
      "|              review|rating|              tokens|        stopWordFree|\n",
      "+--------------------+------+--------------------+--------------------+\n",
      "|It's hard to imag...|   9.0|[it, s, hard, to,...|[hard, imagine, d...|\n",
      "|Two of Hollywood'...|  10.0|[two, of, hollywo...|[two, hollywood, ...|\n",
      "|I saw this film w...|   3.0|[i, saw, this, fi...|[saw, film, franc...|\n",
      "|you have loved Th...|  10.0|[you, have, loved...|[loved, shawshank...|\n",
      "|I hated the way M...|   1.0|[i, hated, the, w...|[hated, way, ms, ...|\n",
      "+--------------------+------+--------------------+--------------------+\n",
      "\n"
     ]
    }
   ],
   "source": [
    "from pyspark.ml.feature import StopWordsRemover\n",
    "\n",
    "remover = (StopWordsRemover()\n",
    "          .setInputCol(\"tokens\")\n",
    "          .setOutputCol(\"stopWordFree\"))\n",
    "\n",
    "removedStopWordsDF = remover.transform(tokenizedDF)\n",
    "removedStopWordsDF.limit(5).show() # Look at a few tokenized reviews without stop words"
   ]
  },
  {
   "cell_type": "markdown",
   "metadata": {},
   "source": [
    "Where do the stop words actually come from? Spark includes a small English list as a default, which we're implicitly using here."
   ]
  },
  {
   "cell_type": "code",
   "execution_count": 17,
   "metadata": {},
   "outputs": [
    {
     "data": {
      "text/plain": [
       "['i',\n",
       " 'me',\n",
       " 'my',\n",
       " 'myself',\n",
       " 'we',\n",
       " 'our',\n",
       " 'ours',\n",
       " 'ourselves',\n",
       " 'you',\n",
       " 'your',\n",
       " 'yours',\n",
       " 'yourself',\n",
       " 'yourselves',\n",
       " 'he',\n",
       " 'him',\n",
       " 'his',\n",
       " 'himself',\n",
       " 'she',\n",
       " 'her',\n",
       " 'hers',\n",
       " 'herself',\n",
       " 'it',\n",
       " 'its',\n",
       " 'itself',\n",
       " 'they',\n",
       " 'them',\n",
       " 'their',\n",
       " 'theirs',\n",
       " 'themselves',\n",
       " 'what',\n",
       " 'which',\n",
       " 'who',\n",
       " 'whom',\n",
       " 'this',\n",
       " 'that',\n",
       " 'these',\n",
       " 'those',\n",
       " 'am',\n",
       " 'is',\n",
       " 'are',\n",
       " 'was',\n",
       " 'were',\n",
       " 'be',\n",
       " 'been',\n",
       " 'being',\n",
       " 'have',\n",
       " 'has',\n",
       " 'had',\n",
       " 'having',\n",
       " 'do',\n",
       " 'does',\n",
       " 'did',\n",
       " 'doing',\n",
       " 'a',\n",
       " 'an',\n",
       " 'the',\n",
       " 'and',\n",
       " 'but',\n",
       " 'if',\n",
       " 'or',\n",
       " 'because',\n",
       " 'as',\n",
       " 'until',\n",
       " 'while',\n",
       " 'of',\n",
       " 'at',\n",
       " 'by',\n",
       " 'for',\n",
       " 'with',\n",
       " 'about',\n",
       " 'against',\n",
       " 'between',\n",
       " 'into',\n",
       " 'through',\n",
       " 'during',\n",
       " 'before',\n",
       " 'after',\n",
       " 'above',\n",
       " 'below',\n",
       " 'to',\n",
       " 'from',\n",
       " 'up',\n",
       " 'down',\n",
       " 'in',\n",
       " 'out',\n",
       " 'on',\n",
       " 'off',\n",
       " 'over',\n",
       " 'under',\n",
       " 'again',\n",
       " 'further',\n",
       " 'then',\n",
       " 'once',\n",
       " 'here',\n",
       " 'there',\n",
       " 'when',\n",
       " 'where',\n",
       " 'why',\n",
       " 'how',\n",
       " 'all',\n",
       " 'any',\n",
       " 'both',\n",
       " 'each',\n",
       " 'few',\n",
       " 'more',\n",
       " 'most',\n",
       " 'other',\n",
       " 'some',\n",
       " 'such',\n",
       " 'no',\n",
       " 'nor',\n",
       " 'not',\n",
       " 'only',\n",
       " 'own',\n",
       " 'same',\n",
       " 'so',\n",
       " 'than',\n",
       " 'too',\n",
       " 'very',\n",
       " 's',\n",
       " 't',\n",
       " 'can',\n",
       " 'will',\n",
       " 'just',\n",
       " 'don',\n",
       " 'should',\n",
       " 'now',\n",
       " \"i'll\",\n",
       " \"you'll\",\n",
       " \"he'll\",\n",
       " \"she'll\",\n",
       " \"we'll\",\n",
       " \"they'll\",\n",
       " \"i'd\",\n",
       " \"you'd\",\n",
       " \"he'd\",\n",
       " \"she'd\",\n",
       " \"we'd\",\n",
       " \"they'd\",\n",
       " \"i'm\",\n",
       " \"you're\",\n",
       " \"he's\",\n",
       " \"she's\",\n",
       " \"it's\",\n",
       " \"we're\",\n",
       " \"they're\",\n",
       " \"i've\",\n",
       " \"we've\",\n",
       " \"you've\",\n",
       " \"they've\",\n",
       " \"isn't\",\n",
       " \"aren't\",\n",
       " \"wasn't\",\n",
       " \"weren't\",\n",
       " \"haven't\",\n",
       " \"hasn't\",\n",
       " \"hadn't\",\n",
       " \"don't\",\n",
       " \"doesn't\",\n",
       " \"didn't\",\n",
       " \"won't\",\n",
       " \"wouldn't\",\n",
       " \"shan't\",\n",
       " \"shouldn't\",\n",
       " \"mustn't\",\n",
       " \"can't\",\n",
       " \"couldn't\",\n",
       " 'cannot',\n",
       " 'could',\n",
       " \"here's\",\n",
       " \"how's\",\n",
       " \"let's\",\n",
       " 'ought',\n",
       " \"that's\",\n",
       " \"there's\",\n",
       " \"what's\",\n",
       " \"when's\",\n",
       " \"where's\",\n",
       " \"who's\",\n",
       " \"why's\",\n",
       " 'would']"
      ]
     },
     "execution_count": 17,
     "metadata": {},
     "output_type": "execute_result"
    }
   ],
   "source": [
    "stopWords = remover.getStopWords()\n",
    "stopWords"
   ]
  },
  {
   "cell_type": "markdown",
   "metadata": {},
   "source": [
    "Let's remove the `br` from our reviews."
   ]
  },
  {
   "cell_type": "code",
   "execution_count": 18,
   "metadata": {},
   "outputs": [],
   "source": [
    "remover.setStopWords([\"br\"] + stopWords)\n",
    "removedStopWordsDF = remover.transform(tokenizedDF)"
   ]
  },
  {
   "cell_type": "markdown",
   "metadata": {},
   "source": [
    "Let's apply a CountVectorizer model\n",
    "\n",
    "This model maps each sentence to a matrix containing each count of the words defined by the whole vocabulary of the corpus.\n",
    "\n",
    "For instance\n",
    "\n",
    " id | texts\n",
    "----|----------\n",
    " 0  | Array(\"a\", \"b\", \"c\")\n",
    " 1  | Array(\"a\", \"b\", \"b\", \"c\", \"a\")\n",
    " \n",
    " maps to:\n",
    " \n",
    "  id | texts                           | vector\n",
    "----|---------------------------------|---------------\n",
    " 0  | Array(\"a\", \"b\", \"c\")            | (3,[0,1,2],[1.0,1.0,1.0])\n",
    " 1  | Array(\"a\", \"b\", \"b\", \"c\", \"a\")  | (3,[0,1,2],[2.0,2.0,1.0])\n",
    " \n",
    " This means that there are two times the word \"a\" , \"b\" and one time the word \"c\" in the second sentence.\n",
    " \n",
    " This produces a good representation to feed a classification algorithm.\n",
    " \n",
    " Nota: Setting the vocabulary size forces the model to select the most frequent words in the given corpus. This reduce the dimension of the features engineered data.\n",
    " "
   ]
  },
  {
   "cell_type": "code",
   "execution_count": 19,
   "metadata": {},
   "outputs": [],
   "source": [
    "from pyspark.ml.feature import CountVectorizer\n",
    "\n",
    "counts = (CountVectorizer()\n",
    "          .setInputCol(\"stopWordFree\")\n",
    "          .setOutputCol(\"features\")\n",
    "          .setVocabSize(1000))\n",
    "\n",
    "countModel = counts.fit(removedStopWordsDF) # It's a model"
   ]
  },
  {
   "cell_type": "markdown",
   "metadata": {},
   "source": [
    "__Now let's adjust the label (target) values__\n",
    "\n",
    "We want to group the reviews into \"positive\" or \"negative\" sentiment. So all of the star \"levels\" need to be collapsed into one of two groups."
   ]
  },
  {
   "cell_type": "code",
   "execution_count": 20,
   "metadata": {},
   "outputs": [],
   "source": [
    "from pyspark.ml.feature import Binarizer\n",
    "\n",
    "binarizer = (Binarizer()\n",
    "            .setInputCol(\"rating\")\n",
    "            .setOutputCol(\"label\")\n",
    "            .setThreshold(5.0))"
   ]
  },
  {
   "cell_type": "markdown",
   "metadata": {},
   "source": [
    "Now we are going to use a Decision Tree model to fit to our dataset."
   ]
  },
  {
   "cell_type": "code",
   "execution_count": 21,
   "metadata": {},
   "outputs": [],
   "source": [
    "from pyspark.ml.classification import DecisionTreeClassifier\n",
    "from pyspark.ml import Pipeline\n",
    "\n",
    "dtc = DecisionTreeClassifier()\n",
    "\n",
    "pipeline = Pipeline().setStages([tokenizer, remover, counts, binarizer, dtc])"
   ]
  },
  {
   "cell_type": "code",
   "execution_count": 22,
   "metadata": {},
   "outputs": [],
   "source": [
    "pipelineModel = pipeline.fit(trainDF)\n",
    "decisionTree = pipelineModel.stages[-1] #We can retrieve a particular step of our pipeline like this"
   ]
  },
  {
   "cell_type": "code",
   "execution_count": 23,
   "metadata": {},
   "outputs": [
    {
     "name": "stdout",
     "output_type": "stream",
     "text": [
      "DecisionTreeClassificationModel (uid=DecisionTreeClassifier_2d7d2f1857bc) of depth 5 with 55 nodes\n",
      "  If (feature 13 <= 0.5)\n",
      "   If (feature 141 <= 0.5)\n",
      "    If (feature 341 <= 0.5)\n",
      "     If (feature 15 <= 0.5)\n",
      "      If (feature 262 <= 0.5)\n",
      "       Predict: 1.0\n",
      "      Else (feature 262 > 0.5)\n",
      "       Predict: 0.0\n",
      "     Else (feature 15 > 0.5)\n",
      "      If (feature 262 <= 0.5)\n",
      "       Predict: 1.0\n",
      "      Else (feature 262 > 0.5)\n",
      "       Predict: 0.0\n",
      "    Else (feature 341 > 0.5)\n",
      "     If (feature 782 <= 1.5)\n",
      "      If (feature 634 <= 1.5)\n",
      "       Predict: 0.0\n",
      "      Else (feature 634 > 1.5)\n",
      "       Predict: 1.0\n",
      "     Else (feature 782 > 1.5)\n",
      "      Predict: 1.0\n",
      "   Else (feature 141 > 0.5)\n",
      "    If (feature 35 <= 0.5)\n",
      "     If (feature 39 <= 0.5)\n",
      "      Predict: 0.0\n",
      "     Else (feature 39 > 0.5)\n",
      "      If (feature 32 <= 3.5)\n",
      "       Predict: 0.0\n",
      "      Else (feature 32 > 3.5)\n",
      "       Predict: 1.0\n",
      "    Else (feature 35 > 0.5)\n",
      "     If (feature 191 <= 1.5)\n",
      "      Predict: 0.0\n",
      "     Else (feature 191 > 1.5)\n",
      "      If (feature 18 <= 2.5)\n",
      "       Predict: 1.0\n",
      "      Else (feature 18 > 2.5)\n",
      "       Predict: 0.0\n",
      "  Else (feature 13 > 0.5)\n",
      "   If (feature 15 <= 0.5)\n",
      "    If (feature 141 <= 0.5)\n",
      "     If (feature 209 <= 0.5)\n",
      "      Predict: 0.0\n",
      "     Else (feature 209 > 0.5)\n",
      "      If (feature 13 <= 1.5)\n",
      "       Predict: 1.0\n",
      "      Else (feature 13 > 1.5)\n",
      "       Predict: 0.0\n",
      "    Else (feature 141 > 0.5)\n",
      "     If (feature 582 <= 1.5)\n",
      "      If (feature 573 <= 1.5)\n",
      "       Predict: 0.0\n",
      "      Else (feature 573 > 1.5)\n",
      "       Predict: 1.0\n",
      "     Else (feature 582 > 1.5)\n",
      "      If (feature 1 <= 1.5)\n",
      "       Predict: 0.0\n",
      "      Else (feature 1 > 1.5)\n",
      "       Predict: 1.0\n",
      "   Else (feature 15 > 0.5)\n",
      "    If (feature 141 <= 0.5)\n",
      "     If (feature 13 <= 1.5)\n",
      "      If (feature 15 <= 1.5)\n",
      "       Predict: 0.0\n",
      "      Else (feature 15 > 1.5)\n",
      "       Predict: 1.0\n",
      "     Else (feature 13 > 1.5)\n",
      "      If (feature 576 <= 0.5)\n",
      "       Predict: 0.0\n",
      "      Else (feature 576 > 0.5)\n",
      "       Predict: 1.0\n",
      "    Else (feature 141 > 0.5)\n",
      "     If (feature 282 <= 0.5)\n",
      "      If (feature 802 <= 0.5)\n",
      "       Predict: 0.0\n",
      "      Else (feature 802 > 0.5)\n",
      "       Predict: 1.0\n",
      "     Else (feature 282 > 0.5)\n",
      "      If (feature 20 <= 0.5)\n",
      "       Predict: 1.0\n",
      "      Else (feature 20 > 0.5)\n",
      "       Predict: 0.0\n",
      "\n"
     ]
    }
   ],
   "source": [
    "print(decisionTree.toDebugString)"
   ]
  },
  {
   "cell_type": "markdown",
   "metadata": {},
   "source": [
    "Let's save the pipeline model."
   ]
  },
  {
   "cell_type": "code",
   "execution_count": 24,
   "metadata": {},
   "outputs": [],
   "source": [
    "# Need to add foundry stuff\n",
    "\n",
    "# fileName = \"/tmp/DT_Pipeline\"\n",
    "# pipelineModel.write().overwrite().save(fileName)"
   ]
  },
  {
   "cell_type": "code",
   "execution_count": 25,
   "metadata": {},
   "outputs": [],
   "source": [
    "# from pyspark.ml import PipelineModel\n",
    "# # Load saved model\n",
    "# savedPipelineModel = PipelineModel.load(fileName)"
   ]
  },
  {
   "cell_type": "code",
   "execution_count": 26,
   "metadata": {},
   "outputs": [],
   "source": [
    "# resultDF = savedPipelineModel.transform(testDF)"
   ]
  },
  {
   "cell_type": "markdown",
   "metadata": {},
   "source": [
    "### 2.3 Evaluating the model"
   ]
  },
  {
   "cell_type": "markdown",
   "metadata": {},
   "source": [
    "Recall a prediction of 1 (resp. 0) maps to a positive (resp. negative) sentiment (rating > 5 or rating < 5)."
   ]
  },
  {
   "cell_type": "code",
   "execution_count": 27,
   "metadata": {},
   "outputs": [
    {
     "name": "stdout",
     "output_type": "stream",
     "text": [
      "+--------------------+------+--------------------+--------------------+--------------------+-----+----------------+--------------------+----------+\n",
      "|              review|rating|              tokens|        stopWordFree|            features|label|   rawPrediction|         probability|prediction|\n",
      "+--------------------+------+--------------------+--------------------+--------------------+-----+----------------+--------------------+----------+\n",
      "|!!!! MILD SPOILER...|   4.0|[mild, spoilers, ...|[mild, spoilers, ...|(1000,[0,3,4,7,11...|  0.0|[7987.0,11496.0]|[0.40994713339834...|       1.0|\n",
      "|!!!! MILD SPOILER...|   4.0|[mild, spoilers, ...|[mild, spoilers, ...|(1000,[0,1,2,3,4,...|  0.0| [4419.0,1247.0]|[0.77991528415107...|       0.0|\n",
      "|!!!!! OF COURSE T...|   4.0|[of, course, ther...|[course, spoilers...|(1000,[1,2,9,11,1...|  0.0| [4419.0,1247.0]|[0.77991528415107...|       0.0|\n",
      "|'2001: A Space Od...|   7.0|[2001, a, space, ...|[2001, space, ody...|(1000,[1,2,3,5,6,...|  1.0|[7987.0,11496.0]|[0.40994713339834...|       1.0|\n",
      "|'A Cry in the Dar...|   8.0|[a, cry, in, the,...|[cry, dark, maste...|(1000,[2,7,16,29,...|  1.0|[7987.0,11496.0]|[0.40994713339834...|       1.0|\n",
      "|'After World War ...|   2.0|[after, world, wa...|[world, war, expe...|(1000,[1,2,3,4,8,...|  0.0|[7987.0,11496.0]|[0.40994713339834...|       1.0|\n",
      "|'Ardh Satya' is o...|   8.0|[ardh, satya, is,...|[ardh, satya, one...|(1000,[1,2,6,7,15...|  1.0| [1546.0,5633.0]|[0.21535032734364...|       1.0|\n",
      "|'Are You in the H...|   7.0|[are, you, in, th...|[house, alone, be...|(1000,[1,2,3,8,10...|  1.0|[7987.0,11496.0]|[0.40994713339834...|       1.0|\n",
      "|'Atlantis: The Lo...|   8.0|[atlantis, the, l...|[atlantis, lost, ...|(1000,[0,1,2,3,4,...|  1.0|    [60.0,128.0]|[0.31914893617021...|       1.0|\n",
      "|'Baptists at Our ...|   1.0|[baptists, at, ou...|[baptists, barbec...|(1000,[0,1,2,3,4,...|  0.0|   [377.0,140.0]|[0.72920696324951...|       0.0|\n",
      "|'Before the devil...|   8.0|[before, the, dev...|[devil, knows, re...|(1000,[2,5,7,21,2...|  1.0|[7987.0,11496.0]|[0.40994713339834...|       1.0|\n",
      "|'Boom' has garner...|   1.0|[boom, has, garne...|[boom, garnered, ...|(1000,[2,4,5,10,1...|  0.0| [4419.0,1247.0]|[0.77991528415107...|       0.0|\n",
      "|'COSBY,' in my op...|   9.0|[cosby, in, my, o...|[cosby, opinion, ...|(1000,[2,3,4,6,8,...|  1.0|[7987.0,11496.0]|[0.40994713339834...|       1.0|\n",
      "|'Capitães de Abri...|  10.0|[capit, es, de, a...|[capit, es, de, a...|(1000,[0,1,2,3,4,...|  1.0| [1546.0,5633.0]|[0.21535032734364...|       1.0|\n",
      "|'Citizen X' tells...|   7.0|[citizen, x, tell...|[citizen, x, tell...|(1000,[1,3,4,6,7,...|  1.0|[7987.0,11496.0]|[0.40994713339834...|       1.0|\n",
      "|'Curse of the For...|   4.0|[curse, of, the, ...|[curse, forty, ni...|(1000,[1,8,17,18,...|  0.0|[7987.0,11496.0]|[0.40994713339834...|       1.0|\n",
      "|'Dead Man Walking...|   9.0|[dead, man, walki...|[dead, man, walki...|(1000,[0,1,2,6,8,...|  1.0| [1546.0,5633.0]|[0.21535032734364...|       1.0|\n",
      "|'Death Wish 3' br...|   8.0|[death, wish, 3, ...|[death, wish, 3, ...|(1000,[0,1,2,3,4,...|  1.0| [4419.0,1247.0]|[0.77991528415107...|       0.0|\n",
      "|'Death Wish 3' is...|   4.0|[death, wish, 3, ...|[death, wish, 3, ...|(1000,[0,3,4,6,12...|  0.0|[7987.0,11496.0]|[0.40994713339834...|       1.0|\n",
      "|'Der Todesking' i...|   7.0|[der, todesking, ...|[der, todesking, ...|(1000,[1,2,3,5,6,...|  1.0| [1546.0,5633.0]|[0.21535032734364...|       1.0|\n",
      "+--------------------+------+--------------------+--------------------+--------------------+-----+----------------+--------------------+----------+\n",
      "only showing top 20 rows\n",
      "\n"
     ]
    }
   ],
   "source": [
    "resultDF = pipelineModel.transform(testDF)\n",
    "resultDF.show()"
   ]
  },
  {
   "cell_type": "markdown",
   "metadata": {},
   "source": [
    "See accuracy of the model on the test set"
   ]
  },
  {
   "cell_type": "code",
   "execution_count": 28,
   "metadata": {},
   "outputs": [
    {
     "name": "stdout",
     "output_type": "stream",
     "text": [
      "Accuracy: 0.696548948586377\n"
     ]
    }
   ],
   "source": [
    "from pyspark.ml.evaluation import MulticlassClassificationEvaluator\n",
    "\n",
    "evaluator = MulticlassClassificationEvaluator(metricName=\"accuracy\")\n",
    "print(\"Accuracy: %(result)s\" % {\"result\": evaluator.evaluate(resultDF)})"
   ]
  },
  {
   "cell_type": "markdown",
   "metadata": {},
   "source": [
    "Even if there is a lot of work to do we have improved the accuracy of the model comparing to a baseline ! This could be enhanced by tuning parameter of the model, adding more complex natural language processing features such as [TF-IDF](https://spark.apache.org/docs/2.2.0/ml-features.html#tf-idf), using a larger vocabulary, using n-grams ..."
   ]
  },
  {
   "cell_type": "markdown",
   "metadata": {},
   "source": [
    "See the confusion matrix"
   ]
  },
  {
   "cell_type": "code",
   "execution_count": 29,
   "metadata": {},
   "outputs": [
    {
     "name": "stdout",
     "output_type": "stream",
     "text": [
      "+-----+----------+-----+\n",
      "|label|prediction|count|\n",
      "+-----+----------+-----+\n",
      "|  1.0|       1.0| 4380|\n",
      "|  0.0|       1.0| 2413|\n",
      "|  1.0|       0.0|  603|\n",
      "|  0.0|       0.0| 2543|\n",
      "+-----+----------+-----+\n",
      "\n"
     ]
    }
   ],
   "source": [
    "resultDF.groupBy(\"label\", \"prediction\").count().show()"
   ]
  },
  {
   "cell_type": "markdown",
   "metadata": {},
   "source": [
    "## Appendix: Go back to regular python code to generate visualization\n",
    "\n",
    "Let's plot a nicer view of our confusion matrix using regular python/pandas/sklearn librairies.\n",
    "\n",
    "Taken from: https://runawayhorse001.github.io/LearningApacheSpark/classification.html"
   ]
  },
  {
   "cell_type": "code",
   "execution_count": 30,
   "metadata": {},
   "outputs": [],
   "source": [
    "import matplotlib.pyplot as plt\n",
    "import numpy as np\n",
    "import itertools\n",
    "\n",
    "def plot_confusion_matrix(cm, classes,\n",
    "                          normalize=False,\n",
    "                          title='Confusion matrix',\n",
    "                          cmap=plt.cm.Blues):\n",
    "    \"\"\"\n",
    "    This function prints and plots the confusion matrix.\n",
    "    Normalization can be applied by setting `normalize=True`.\n",
    "    \"\"\"\n",
    "    if normalize:\n",
    "        cm = cm.astype('float') / cm.sum(axis=1)[:, np.newaxis]\n",
    "        print(\"Normalized confusion matrix\")\n",
    "    else:\n",
    "        print('Confusion matrix, without normalization')\n",
    "\n",
    "    print(cm)\n",
    "\n",
    "    plt.imshow(cm, interpolation='nearest', cmap=cmap)\n",
    "    plt.title(title)\n",
    "    plt.colorbar()\n",
    "    tick_marks = np.arange(len(classes))\n",
    "    plt.xticks(tick_marks, classes, rotation=45)\n",
    "    plt.yticks(tick_marks, classes)\n",
    "\n",
    "    fmt = '.2f' if normalize else 'd'\n",
    "    thresh = cm.max() / 2.\n",
    "    for i, j in itertools.product(range(cm.shape[0]), range(cm.shape[1])):\n",
    "        plt.text(j, i, format(cm[i, j], fmt),\n",
    "                 horizontalalignment=\"center\",\n",
    "                 color=\"white\" if cm[i, j] > thresh else \"black\")\n",
    "\n",
    "    plt.tight_layout()\n",
    "    plt.ylabel('True label')\n",
    "    plt.xlabel('Predicted label')"
   ]
  },
  {
   "cell_type": "code",
   "execution_count": 31,
   "metadata": {},
   "outputs": [
    {
     "data": {
      "text/plain": [
       "[Row(review='!!!! MILD SPOILERS !!!!<br /><br />The premise goes like this : A store gets burnt down and assistant Sergio is asked by the father of the man who started the fire to take the wrap to which Sergio agrees .<br /><br />So far so good , but there`s a fair lapse of logic involved Sergio agrees to do this for the sum of 25,000 dollars but why ? Come on guys if you were a good looking white boy would you run the risk of getting a long spell in a tough jail ( A very real possibilty for arson ) for the sake of 25 grand ? I know I wouldn`t , and seeing as you`d have a criminal record no employer would want to touch you with a barge pole so is $25,000 dollars all that much for a life of workfare and welfare cheques ? There`s also something else that seems to have gone without notice from the premise , since Mister Lumpke has told Sergio that his son did the fire he seems unware of the possibility that he may know too much . Wouldn`t alarm bells be ringing in your mind about someone wanting to keep you quite if they told you something ? <br /><br />I guess we`re not suppossed to think about such details since A PYROMANIAC`S LOVE STORY isn`t suppossed to be an intelligent thriller , it`s a light hearted romantic comedy/ chick flick that`s probably best apprieciated as a girls night in . Looking through this comments page it is obvious that the movie has its defenders but as a cynical male I wasn`t too impressed and William Baldwin does go way over the top', rating=4.0, tokens=['mild', 'spoilers', 'br', 'br', 'the', 'premise', 'goes', 'like', 'this', 'a', 'store', 'gets', 'burnt', 'down', 'and', 'assistant', 'sergio', 'is', 'asked', 'by', 'the', 'father', 'of', 'the', 'man', 'who', 'started', 'the', 'fire', 'to', 'take', 'the', 'wrap', 'to', 'which', 'sergio', 'agrees', 'br', 'br', 'so', 'far', 'so', 'good', 'but', 'there', 's', 'a', 'fair', 'lapse', 'of', 'logic', 'involved', 'sergio', 'agrees', 'to', 'do', 'this', 'for', 'the', 'sum', 'of', '25', '000', 'dollars', 'but', 'why', 'come', 'on', 'guys', 'if', 'you', 'were', 'a', 'good', 'looking', 'white', 'boy', 'would', 'you', 'run', 'the', 'risk', 'of', 'getting', 'a', 'long', 'spell', 'in', 'a', 'tough', 'jail', 'a', 'very', 'real', 'possibilty', 'for', 'arson', 'for', 'the', 'sake', 'of', '25', 'grand', 'i', 'know', 'i', 'wouldn', 't', 'and', 'seeing', 'as', 'you', 'd', 'have', 'a', 'criminal', 'record', 'no', 'employer', 'would', 'want', 'to', 'touch', 'you', 'with', 'a', 'barge', 'pole', 'so', 'is', '25', '000', 'dollars', 'all', 'that', 'much', 'for', 'a', 'life', 'of', 'workfare', 'and', 'welfare', 'cheques', 'there', 's', 'also', 'something', 'else', 'that', 'seems', 'to', 'have', 'gone', 'without', 'notice', 'from', 'the', 'premise', 'since', 'mister', 'lumpke', 'has', 'told', 'sergio', 'that', 'his', 'son', 'did', 'the', 'fire', 'he', 'seems', 'unware', 'of', 'the', 'possibility', 'that', 'he', 'may', 'know', 'too', 'much', 'wouldn', 't', 'alarm', 'bells', 'be', 'ringing', 'in', 'your', 'mind', 'about', 'someone', 'wanting', 'to', 'keep', 'you', 'quite', 'if', 'they', 'told', 'you', 'something', 'br', 'br', 'i', 'guess', 'we', 're', 'not', 'suppossed', 'to', 'think', 'about', 'such', 'details', 'since', 'a', 'pyromaniac', 's', 'love', 'story', 'isn', 't', 'suppossed', 'to', 'be', 'an', 'intelligent', 'thriller', 'it', 's', 'a', 'light', 'hearted', 'romantic', 'comedy', 'chick', 'flick', 'that', 's', 'probably', 'best', 'apprieciated', 'as', 'a', 'girls', 'night', 'in', 'looking', 'through', 'this', 'comments', 'page', 'it', 'is', 'obvious', 'that', 'the', 'movie', 'has', 'its', 'defenders', 'but', 'as', 'a', 'cynical', 'male', 'i', 'wasn', 't', 'too', 'impressed', 'and', 'william', 'baldwin', 'does', 'go', 'way', 'over', 'the', 'top'], stopWordFree=['mild', 'spoilers', 'premise', 'goes', 'like', 'store', 'gets', 'burnt', 'assistant', 'sergio', 'asked', 'father', 'man', 'started', 'fire', 'take', 'wrap', 'sergio', 'agrees', 'far', 'good', 'fair', 'lapse', 'logic', 'involved', 'sergio', 'agrees', 'sum', '25', '000', 'dollars', 'come', 'guys', 'good', 'looking', 'white', 'boy', 'run', 'risk', 'getting', 'long', 'spell', 'tough', 'jail', 'real', 'possibilty', 'arson', 'sake', '25', 'grand', 'know', 'wouldn', 'seeing', 'd', 'criminal', 'record', 'employer', 'want', 'touch', 'barge', 'pole', '25', '000', 'dollars', 'much', 'life', 'workfare', 'welfare', 'cheques', 'also', 'something', 'else', 'seems', 'gone', 'without', 'notice', 'premise', 'since', 'mister', 'lumpke', 'told', 'sergio', 'son', 'fire', 'seems', 'unware', 'possibility', 'may', 'know', 'much', 'wouldn', 'alarm', 'bells', 'ringing', 'mind', 'someone', 'wanting', 'keep', 'quite', 'told', 'something', 'guess', 're', 'suppossed', 'think', 'details', 'since', 'pyromaniac', 'love', 'story', 'isn', 'suppossed', 'intelligent', 'thriller', 'light', 'hearted', 'romantic', 'comedy', 'chick', 'flick', 'probably', 'best', 'apprieciated', 'girls', 'night', 'looking', 'comments', 'page', 'obvious', 'movie', 'defenders', 'cynical', 'male', 'wasn', 'impressed', 'william', 'baldwin', 'go', 'way', 'top'], features=SparseVector(1000, {0: 1.0, 3: 1.0, 4: 2.0, 7: 1.0, 11: 2.0, 16: 1.0, 20: 1.0, 23: 1.0, 30: 1.0, 32: 1.0, 35: 1.0, 37: 2.0, 40: 1.0, 48: 2.0, 50: 1.0, 52: 1.0, 56: 1.0, 78: 1.0, 81: 1.0, 86: 2.0, 89: 1.0, 95: 1.0, 97: 1.0, 99: 1.0, 100: 1.0, 105: 1.0, 106: 1.0, 110: 1.0, 118: 1.0, 121: 1.0, 130: 2.0, 134: 1.0, 151: 2.0, 166: 1.0, 179: 1.0, 188: 1.0, 200: 1.0, 206: 1.0, 214: 1.0, 215: 1.0, 217: 1.0, 233: 1.0, 271: 1.0, 280: 1.0, 287: 1.0, 325: 1.0, 339: 1.0, 354: 1.0, 367: 1.0, 372: 1.0, 381: 1.0, 408: 1.0, 449: 1.0, 452: 2.0, 454: 2.0, 472: 1.0, 530: 1.0, 548: 1.0, 569: 1.0, 622: 1.0, 679: 1.0, 683: 1.0, 732: 2.0, 792: 1.0, 815: 2.0, 869: 1.0, 894: 1.0, 947: 1.0, 977: 1.0}), label=0.0, rawPrediction=DenseVector([7987.0, 11496.0]), probability=DenseVector([0.4099, 0.5901]), prediction=1.0)]"
      ]
     },
     "execution_count": 31,
     "metadata": {},
     "output_type": "execute_result"
    }
   ],
   "source": [
    "resultDF.take(1)"
   ]
  },
  {
   "cell_type": "code",
   "execution_count": 32,
   "metadata": {},
   "outputs": [],
   "source": [
    "import pandas\n",
    "class_temp = resultDF.select(\"label\").groupBy(\"label\")\\\n",
    "                        .count().sort('count', ascending=False).toPandas()\n",
    "\n",
    "class_names = class_temp[\"label\"].values.tolist()"
   ]
  },
  {
   "cell_type": "code",
   "execution_count": 33,
   "metadata": {},
   "outputs": [
    {
     "data": {
      "text/plain": [
       "array([[4380,  603],\n",
       "       [2413, 2543]])"
      ]
     },
     "execution_count": 33,
     "metadata": {},
     "output_type": "execute_result"
    }
   ],
   "source": [
    "from sklearn.metrics import confusion_matrix\n",
    "y_true = resultDF.select(\"label\")\n",
    "y_true = y_true.toPandas()\n",
    "\n",
    "y_pred = resultDF.select(\"prediction\")\n",
    "y_pred = y_pred.toPandas()\n",
    "\n",
    "cnf_matrix = confusion_matrix(y_true, y_pred,labels=class_names)\n",
    "cnf_matrix"
   ]
  },
  {
   "cell_type": "code",
   "execution_count": 34,
   "metadata": {},
   "outputs": [
    {
     "name": "stdout",
     "output_type": "stream",
     "text": [
      "Confusion matrix, without normalization\n",
      "[[4380  603]\n",
      " [2413 2543]]\n"
     ]
    },
    {
     "data": {
      "image/png": "[encoded data removed]",
      "text/plain": [
       "<Figure size 432x288 with 2 Axes>"
      ]
     },
     "metadata": {
      "needs_background": "light"
     },
     "output_type": "display_data"
    }
   ],
   "source": [
    "plt.figure()\n",
    "plot_confusion_matrix(cnf_matrix, classes=class_names,\n",
    "                      title='Confusion matrix, visualization example')\n",
    "plt.show()"
   ]
  },
  {
   "cell_type": "code",
   "execution_count": 35,
   "metadata": {},
   "outputs": [],
   "source": [
    "spark.stop()"
   ]
  },
  {
   "cell_type": "code",
   "execution_count": null,
   "metadata": {},
   "outputs": [],
   "source": []
  }
 ],
 "metadata": {
  "kernelspec": {
   "display_name": "Python 3",
   "language": "python",
   "name": "python3"
  },
  "language_info": {
   "codemirror_mode": {
    "name": "ipython",
    "version": 3
   },
   "file_extension": ".py",
   "mimetype": "text/x-python",
   "name": "python",
   "nbconvert_exporter": "python",
   "pygments_lexer": "ipython3",
   "version": "3.6.10"
  }
 },
 "nbformat": 4,
 "nbformat_minor": 4
}
